{
 "cells": [
  {
   "cell_type": "markdown",
   "id": "395057c8",
   "metadata": {
    "papermill": {
     "duration": 0.011052,
     "end_time": "2024-05-19T20:56:11.018115",
     "exception": false,
     "start_time": "2024-05-19T20:56:11.007063",
     "status": "completed"
    },
    "tags": []
   },
   "source": [
    "This study investigates the effectiveness of **Long Short-Term Memory (LSTM)** and **Gated Recurrent Unit (GRU)** models in classifying **coding** and **non-coding** DNA sequences within a metagenomic dataset related to lettuce microbiome (Study MGYS00000513). The data included **gene features, DNA sequences**, and **labels** indicating coding (1) or non-coding (0) status. \n",
    "\n",
    "Given the potential imbalance between coding and non-coding sequences, the **Synthetic Minority Oversampling Technique (SMOTE)** was employed to balance the dataset before training the models. This approach achieved an accuracy of 91% in distinguishing between coding and non-coding sequences, suggesting the potential of GRU for analyzing metagenomic data."
   ]
  },
  {
   "cell_type": "markdown",
   "id": "99fc72c8",
   "metadata": {
    "papermill": {
     "duration": 0.010432,
     "end_time": "2024-05-19T20:56:11.039210",
     "exception": false,
     "start_time": "2024-05-19T20:56:11.028778",
     "status": "completed"
    },
    "tags": []
   },
   "source": [
    "## Used Libraries"
   ]
  },
  {
   "cell_type": "code",
   "execution_count": 1,
   "id": "05f7c6cb",
   "metadata": {
    "execution": {
     "iopub.execute_input": "2024-05-19T20:56:11.062667Z",
     "iopub.status.busy": "2024-05-19T20:56:11.062016Z",
     "iopub.status.idle": "2024-05-19T20:56:26.271474Z",
     "shell.execute_reply": "2024-05-19T20:56:26.270701Z"
    },
    "papermill": {
     "duration": 15.223891,
     "end_time": "2024-05-19T20:56:26.273754",
     "exception": false,
     "start_time": "2024-05-19T20:56:11.049863",
     "status": "completed"
    },
    "tags": []
   },
   "outputs": [
    {
     "name": "stderr",
     "output_type": "stream",
     "text": [
      "2024-05-19 20:56:15.399126: E external/local_xla/xla/stream_executor/cuda/cuda_dnn.cc:9261] Unable to register cuDNN factory: Attempting to register factory for plugin cuDNN when one has already been registered\n",
      "2024-05-19 20:56:15.399225: E external/local_xla/xla/stream_executor/cuda/cuda_fft.cc:607] Unable to register cuFFT factory: Attempting to register factory for plugin cuFFT when one has already been registered\n",
      "2024-05-19 20:56:15.566210: E external/local_xla/xla/stream_executor/cuda/cuda_blas.cc:1515] Unable to register cuBLAS factory: Attempting to register factory for plugin cuBLAS when one has already been registered\n"
     ]
    }
   ],
   "source": [
    "import numpy as np\n",
    "import pandas as pd\n",
    "import matplotlib.pyplot as plt\n",
    "import seaborn as sns\n",
    "\n",
    "from sklearn.feature_extraction.text import CountVectorizer\n",
    "from sklearn.feature_extraction.text import TfidfVectorizer\n",
    "from tensorflow.keras.preprocessing.text import Tokenizer\n",
    "from keras.preprocessing.sequence import pad_sequences\n",
    "from sklearn.model_selection import train_test_split\n",
    "from imblearn.over_sampling import SMOTE\n",
    "from tensorflow.keras.layers import Embedding, Dropout, Bidirectional, LSTM, Dense, GRU\n",
    "from tensorflow.keras.models import Sequential\n",
    "from keras.optimizers import Adam\n",
    "from tensorflow.keras.callbacks import EarlyStopping\n",
    "from sklearn.metrics import confusion_matrix, classification_report, accuracy_score, f1_score"
   ]
  },
  {
   "cell_type": "markdown",
   "id": "6969c489",
   "metadata": {
    "papermill": {
     "duration": 0.01128,
     "end_time": "2024-05-19T20:56:26.296218",
     "exception": false,
     "start_time": "2024-05-19T20:56:26.284938",
     "status": "completed"
    },
    "tags": []
   },
   "source": [
    "## Import Data"
   ]
  },
  {
   "cell_type": "code",
   "execution_count": 2,
   "id": "a14dc32b",
   "metadata": {
    "execution": {
     "iopub.execute_input": "2024-05-19T20:56:26.318965Z",
     "iopub.status.busy": "2024-05-19T20:56:26.318437Z",
     "iopub.status.idle": "2024-05-19T20:56:26.824296Z",
     "shell.execute_reply": "2024-05-19T20:56:26.823447Z"
    },
    "papermill": {
     "duration": 0.519678,
     "end_time": "2024-05-19T20:56:26.826462",
     "exception": false,
     "start_time": "2024-05-19T20:56:26.306784",
     "status": "completed"
    },
    "tags": []
   },
   "outputs": [
    {
     "data": {
      "text/html": [
       "<div>\n",
       "<style scoped>\n",
       "    .dataframe tbody tr th:only-of-type {\n",
       "        vertical-align: middle;\n",
       "    }\n",
       "\n",
       "    .dataframe tbody tr th {\n",
       "        vertical-align: top;\n",
       "    }\n",
       "\n",
       "    .dataframe thead th {\n",
       "        text-align: right;\n",
       "    }\n",
       "</style>\n",
       "<table border=\"1\" class=\"dataframe\">\n",
       "  <thead>\n",
       "    <tr style=\"text-align: right;\">\n",
       "      <th></th>\n",
       "      <th>Unnamed: 0</th>\n",
       "      <th>gene_features</th>\n",
       "      <th>DNA_sequence</th>\n",
       "      <th>Target</th>\n",
       "    </tr>\n",
       "  </thead>\n",
       "  <tbody>\n",
       "    <tr>\n",
       "      <th>60455</th>\n",
       "      <td>60455</td>\n",
       "      <td>MISEQ:128:000000000-A7920:1:2116:18663:4630_1:...</td>\n",
       "      <td>GCTCACGCGCTTCAAGGCTGCTCACCGCGAGGAGCAGCTCGAGCCA...</td>\n",
       "      <td>0</td>\n",
       "    </tr>\n",
       "    <tr>\n",
       "      <th>49650</th>\n",
       "      <td>49650</td>\n",
       "      <td>MISEQ:128:000000000-A7920:1:2105:14571:1816_1:...</td>\n",
       "      <td>GAGCTCACCCGGGATGCCGAAGAACGGCGAGACCGGGCGGGCGTCG...</td>\n",
       "      <td>0</td>\n",
       "    </tr>\n",
       "    <tr>\n",
       "      <th>31043</th>\n",
       "      <td>31043</td>\n",
       "      <td>MISEQ:128:000000000-A7920:1:1109:15231:15963_1...</td>\n",
       "      <td>CACCTGCCCGCTACTGACCGCTGGTGGACACCGAAACCGAATGGGG...</td>\n",
       "      <td>0</td>\n",
       "    </tr>\n",
       "    <tr>\n",
       "      <th>42092</th>\n",
       "      <td>42092</td>\n",
       "      <td>MISEQ:128:000000000-A7920:1:1117:15174:18638_1...</td>\n",
       "      <td>GCTACGAACTGACCGAGCCGCCGGAACACCGCAATCTGGACCGCTT...</td>\n",
       "      <td>0</td>\n",
       "    </tr>\n",
       "    <tr>\n",
       "      <th>10200</th>\n",
       "      <td>10200</td>\n",
       "      <td>MISEQ:128:000000000-A7920:1:1119:16225:2246_1:...</td>\n",
       "      <td>GTCGCGCGCTGGAAGAACGGCGAGATCGTGGAGGAGAACCTGTTCT...</td>\n",
       "      <td>1</td>\n",
       "    </tr>\n",
       "    <tr>\n",
       "      <th>8572</th>\n",
       "      <td>8572</td>\n",
       "      <td>MISEQ:128:000000000-A7920:1:1115:20973:18702_1...</td>\n",
       "      <td>CCCGGCCGGATGACGCACGGTTCGATTCCCGCATCGGTGCGCGAGC...</td>\n",
       "      <td>1</td>\n",
       "    </tr>\n",
       "    <tr>\n",
       "      <th>6384</th>\n",
       "      <td>6384</td>\n",
       "      <td>MISEQ:128:000000000-A7920:1:1112:14351:3335_1:...</td>\n",
       "      <td>CCCGGAACGGTGCGCGCAGGTCAATCATCGTTTAGCTTGGCTCGGT...</td>\n",
       "      <td>1</td>\n",
       "    </tr>\n",
       "    <tr>\n",
       "      <th>33505</th>\n",
       "      <td>33505</td>\n",
       "      <td>MISEQ:128:000000000-A7920:1:1111:7885:11265_1:...</td>\n",
       "      <td>ATACACGAGTCTGGACACAACTGCAATGCCAGCACAACCCCACGAA...</td>\n",
       "      <td>0</td>\n",
       "    </tr>\n",
       "    <tr>\n",
       "      <th>49120</th>\n",
       "      <td>49120</td>\n",
       "      <td>MISEQ:128:000000000-A7920:1:2104:18393:14064_1...</td>\n",
       "      <td>ATCCAACACCACCTCAAATCTGGTATTAAAACCAGCGTGATGACAG...</td>\n",
       "      <td>0</td>\n",
       "    </tr>\n",
       "    <tr>\n",
       "      <th>47404</th>\n",
       "      <td>47404</td>\n",
       "      <td>MISEQ:128:000000000-A7920:1:2103:9167:7933_1:N...</td>\n",
       "      <td>ATGCTTTCTTCATCACGTCCTCCAGGGGAAACCTCTGGCACACTAT...</td>\n",
       "      <td>0</td>\n",
       "    </tr>\n",
       "  </tbody>\n",
       "</table>\n",
       "</div>"
      ],
      "text/plain": [
       "       Unnamed: 0                                      gene_features  \\\n",
       "60455       60455  MISEQ:128:000000000-A7920:1:2116:18663:4630_1:...   \n",
       "49650       49650  MISEQ:128:000000000-A7920:1:2105:14571:1816_1:...   \n",
       "31043       31043  MISEQ:128:000000000-A7920:1:1109:15231:15963_1...   \n",
       "42092       42092  MISEQ:128:000000000-A7920:1:1117:15174:18638_1...   \n",
       "10200       10200  MISEQ:128:000000000-A7920:1:1119:16225:2246_1:...   \n",
       "8572         8572  MISEQ:128:000000000-A7920:1:1115:20973:18702_1...   \n",
       "6384         6384  MISEQ:128:000000000-A7920:1:1112:14351:3335_1:...   \n",
       "33505       33505  MISEQ:128:000000000-A7920:1:1111:7885:11265_1:...   \n",
       "49120       49120  MISEQ:128:000000000-A7920:1:2104:18393:14064_1...   \n",
       "47404       47404  MISEQ:128:000000000-A7920:1:2103:9167:7933_1:N...   \n",
       "\n",
       "                                            DNA_sequence  Target  \n",
       "60455  GCTCACGCGCTTCAAGGCTGCTCACCGCGAGGAGCAGCTCGAGCCA...       0  \n",
       "49650  GAGCTCACCCGGGATGCCGAAGAACGGCGAGACCGGGCGGGCGTCG...       0  \n",
       "31043  CACCTGCCCGCTACTGACCGCTGGTGGACACCGAAACCGAATGGGG...       0  \n",
       "42092  GCTACGAACTGACCGAGCCGCCGGAACACCGCAATCTGGACCGCTT...       0  \n",
       "10200  GTCGCGCGCTGGAAGAACGGCGAGATCGTGGAGGAGAACCTGTTCT...       1  \n",
       "8572   CCCGGCCGGATGACGCACGGTTCGATTCCCGCATCGGTGCGCGAGC...       1  \n",
       "6384   CCCGGAACGGTGCGCGCAGGTCAATCATCGTTTAGCTTGGCTCGGT...       1  \n",
       "33505  ATACACGAGTCTGGACACAACTGCAATGCCAGCACAACCCCACGAA...       0  \n",
       "49120  ATCCAACACCACCTCAAATCTGGTATTAAAACCAGCGTGATGACAG...       0  \n",
       "47404  ATGCTTTCTTCATCACGTCCTCCAGGGGAAACCTCTGGCACACTAT...       0  "
      ]
     },
     "execution_count": 2,
     "metadata": {},
     "output_type": "execute_result"
    }
   ],
   "source": [
    "df0 = pd.read_csv('/kaggle/input/coding-noncoding-dna-sequences/Coding_NonCoding_DNA_Sequences')\n",
    "data_shuffled = df0.sample(frac=1, random_state=1)\n",
    "data_shuffled.head(10)"
   ]
  },
  {
   "cell_type": "code",
   "execution_count": 3,
   "id": "50c11e66",
   "metadata": {
    "execution": {
     "iopub.execute_input": "2024-05-19T20:56:26.849614Z",
     "iopub.status.busy": "2024-05-19T20:56:26.849306Z",
     "iopub.status.idle": "2024-05-19T20:56:26.859183Z",
     "shell.execute_reply": "2024-05-19T20:56:26.858368Z"
    },
    "papermill": {
     "duration": 0.023474,
     "end_time": "2024-05-19T20:56:26.861017",
     "exception": false,
     "start_time": "2024-05-19T20:56:26.837543",
     "status": "completed"
    },
    "tags": []
   },
   "outputs": [
    {
     "data": {
      "text/html": [
       "<div>\n",
       "<style scoped>\n",
       "    .dataframe tbody tr th:only-of-type {\n",
       "        vertical-align: middle;\n",
       "    }\n",
       "\n",
       "    .dataframe tbody tr th {\n",
       "        vertical-align: top;\n",
       "    }\n",
       "\n",
       "    .dataframe thead th {\n",
       "        text-align: right;\n",
       "    }\n",
       "</style>\n",
       "<table border=\"1\" class=\"dataframe\">\n",
       "  <thead>\n",
       "    <tr style=\"text-align: right;\">\n",
       "      <th></th>\n",
       "      <th>Unnamed: 0</th>\n",
       "      <th>gene_features</th>\n",
       "      <th>DNA_sequence</th>\n",
       "      <th>Target</th>\n",
       "    </tr>\n",
       "  </thead>\n",
       "  <tbody>\n",
       "    <tr>\n",
       "      <th>60455</th>\n",
       "      <td>60455</td>\n",
       "      <td>MISEQ:128:000000000-A7920:1:2116:18663:4630_1:...</td>\n",
       "      <td>GCTCACGCGCTTCAAGGCTGCTCACCGCGAGGAGCAGCTCGAGCCA...</td>\n",
       "      <td>0</td>\n",
       "    </tr>\n",
       "    <tr>\n",
       "      <th>49650</th>\n",
       "      <td>49650</td>\n",
       "      <td>MISEQ:128:000000000-A7920:1:2105:14571:1816_1:...</td>\n",
       "      <td>GAGCTCACCCGGGATGCCGAAGAACGGCGAGACCGGGCGGGCGTCG...</td>\n",
       "      <td>0</td>\n",
       "    </tr>\n",
       "    <tr>\n",
       "      <th>31043</th>\n",
       "      <td>31043</td>\n",
       "      <td>MISEQ:128:000000000-A7920:1:1109:15231:15963_1...</td>\n",
       "      <td>CACCTGCCCGCTACTGACCGCTGGTGGACACCGAAACCGAATGGGG...</td>\n",
       "      <td>0</td>\n",
       "    </tr>\n",
       "    <tr>\n",
       "      <th>42092</th>\n",
       "      <td>42092</td>\n",
       "      <td>MISEQ:128:000000000-A7920:1:1117:15174:18638_1...</td>\n",
       "      <td>GCTACGAACTGACCGAGCCGCCGGAACACCGCAATCTGGACCGCTT...</td>\n",
       "      <td>0</td>\n",
       "    </tr>\n",
       "    <tr>\n",
       "      <th>10200</th>\n",
       "      <td>10200</td>\n",
       "      <td>MISEQ:128:000000000-A7920:1:1119:16225:2246_1:...</td>\n",
       "      <td>GTCGCGCGCTGGAAGAACGGCGAGATCGTGGAGGAGAACCTGTTCT...</td>\n",
       "      <td>1</td>\n",
       "    </tr>\n",
       "  </tbody>\n",
       "</table>\n",
       "</div>"
      ],
      "text/plain": [
       "       Unnamed: 0                                      gene_features  \\\n",
       "60455       60455  MISEQ:128:000000000-A7920:1:2116:18663:4630_1:...   \n",
       "49650       49650  MISEQ:128:000000000-A7920:1:2105:14571:1816_1:...   \n",
       "31043       31043  MISEQ:128:000000000-A7920:1:1109:15231:15963_1...   \n",
       "42092       42092  MISEQ:128:000000000-A7920:1:1117:15174:18638_1...   \n",
       "10200       10200  MISEQ:128:000000000-A7920:1:1119:16225:2246_1:...   \n",
       "\n",
       "                                            DNA_sequence  Target  \n",
       "60455  GCTCACGCGCTTCAAGGCTGCTCACCGCGAGGAGCAGCTCGAGCCA...       0  \n",
       "49650  GAGCTCACCCGGGATGCCGAAGAACGGCGAGACCGGGCGGGCGTCG...       0  \n",
       "31043  CACCTGCCCGCTACTGACCGCTGGTGGACACCGAAACCGAATGGGG...       0  \n",
       "42092  GCTACGAACTGACCGAGCCGCCGGAACACCGCAATCTGGACCGCTT...       0  \n",
       "10200  GTCGCGCGCTGGAAGAACGGCGAGATCGTGGAGGAGAACCTGTTCT...       1  "
      ]
     },
     "execution_count": 3,
     "metadata": {},
     "output_type": "execute_result"
    }
   ],
   "source": [
    "data_shuffled.head()"
   ]
  },
  {
   "cell_type": "markdown",
   "id": "55fad61b",
   "metadata": {
    "papermill": {
     "duration": 0.011145,
     "end_time": "2024-05-19T20:56:26.883608",
     "exception": false,
     "start_time": "2024-05-19T20:56:26.872463",
     "status": "completed"
    },
    "tags": []
   },
   "source": [
    "## Basic EDA and Distribution"
   ]
  },
  {
   "cell_type": "code",
   "execution_count": 4,
   "id": "e45f8925",
   "metadata": {
    "execution": {
     "iopub.execute_input": "2024-05-19T20:56:26.907022Z",
     "iopub.status.busy": "2024-05-19T20:56:26.906759Z",
     "iopub.status.idle": "2024-05-19T20:56:26.915117Z",
     "shell.execute_reply": "2024-05-19T20:56:26.914264Z"
    },
    "papermill": {
     "duration": 0.022029,
     "end_time": "2024-05-19T20:56:26.916889",
     "exception": false,
     "start_time": "2024-05-19T20:56:26.894860",
     "status": "completed"
    },
    "tags": []
   },
   "outputs": [],
   "source": [
    "df = data_shuffled[['DNA_sequence', 'Target']]"
   ]
  },
  {
   "cell_type": "code",
   "execution_count": 5,
   "id": "f63e4736",
   "metadata": {
    "execution": {
     "iopub.execute_input": "2024-05-19T20:56:26.940916Z",
     "iopub.status.busy": "2024-05-19T20:56:26.940659Z",
     "iopub.status.idle": "2024-05-19T20:56:26.948505Z",
     "shell.execute_reply": "2024-05-19T20:56:26.947674Z"
    },
    "papermill": {
     "duration": 0.021748,
     "end_time": "2024-05-19T20:56:26.950516",
     "exception": false,
     "start_time": "2024-05-19T20:56:26.928768",
     "status": "completed"
    },
    "tags": []
   },
   "outputs": [
    {
     "data": {
      "text/html": [
       "<div>\n",
       "<style scoped>\n",
       "    .dataframe tbody tr th:only-of-type {\n",
       "        vertical-align: middle;\n",
       "    }\n",
       "\n",
       "    .dataframe tbody tr th {\n",
       "        vertical-align: top;\n",
       "    }\n",
       "\n",
       "    .dataframe thead th {\n",
       "        text-align: right;\n",
       "    }\n",
       "</style>\n",
       "<table border=\"1\" class=\"dataframe\">\n",
       "  <thead>\n",
       "    <tr style=\"text-align: right;\">\n",
       "      <th></th>\n",
       "      <th>DNA_sequence</th>\n",
       "      <th>Target</th>\n",
       "    </tr>\n",
       "  </thead>\n",
       "  <tbody>\n",
       "    <tr>\n",
       "      <th>60455</th>\n",
       "      <td>GCTCACGCGCTTCAAGGCTGCTCACCGCGAGGAGCAGCTCGAGCCA...</td>\n",
       "      <td>0</td>\n",
       "    </tr>\n",
       "    <tr>\n",
       "      <th>49650</th>\n",
       "      <td>GAGCTCACCCGGGATGCCGAAGAACGGCGAGACCGGGCGGGCGTCG...</td>\n",
       "      <td>0</td>\n",
       "    </tr>\n",
       "    <tr>\n",
       "      <th>31043</th>\n",
       "      <td>CACCTGCCCGCTACTGACCGCTGGTGGACACCGAAACCGAATGGGG...</td>\n",
       "      <td>0</td>\n",
       "    </tr>\n",
       "    <tr>\n",
       "      <th>42092</th>\n",
       "      <td>GCTACGAACTGACCGAGCCGCCGGAACACCGCAATCTGGACCGCTT...</td>\n",
       "      <td>0</td>\n",
       "    </tr>\n",
       "    <tr>\n",
       "      <th>10200</th>\n",
       "      <td>GTCGCGCGCTGGAAGAACGGCGAGATCGTGGAGGAGAACCTGTTCT...</td>\n",
       "      <td>1</td>\n",
       "    </tr>\n",
       "  </tbody>\n",
       "</table>\n",
       "</div>"
      ],
      "text/plain": [
       "                                            DNA_sequence  Target\n",
       "60455  GCTCACGCGCTTCAAGGCTGCTCACCGCGAGGAGCAGCTCGAGCCA...       0\n",
       "49650  GAGCTCACCCGGGATGCCGAAGAACGGCGAGACCGGGCGGGCGTCG...       0\n",
       "31043  CACCTGCCCGCTACTGACCGCTGGTGGACACCGAAACCGAATGGGG...       0\n",
       "42092  GCTACGAACTGACCGAGCCGCCGGAACACCGCAATCTGGACCGCTT...       0\n",
       "10200  GTCGCGCGCTGGAAGAACGGCGAGATCGTGGAGGAGAACCTGTTCT...       1"
      ]
     },
     "execution_count": 5,
     "metadata": {},
     "output_type": "execute_result"
    }
   ],
   "source": [
    "df.head()"
   ]
  },
  {
   "cell_type": "code",
   "execution_count": 6,
   "id": "f2a974a4",
   "metadata": {
    "execution": {
     "iopub.execute_input": "2024-05-19T20:56:26.975203Z",
     "iopub.status.busy": "2024-05-19T20:56:26.974584Z",
     "iopub.status.idle": "2024-05-19T20:56:27.269185Z",
     "shell.execute_reply": "2024-05-19T20:56:27.268263Z"
    },
    "papermill": {
     "duration": 0.30879,
     "end_time": "2024-05-19T20:56:27.271281",
     "exception": false,
     "start_time": "2024-05-19T20:56:26.962491",
     "status": "completed"
    },
    "tags": []
   },
   "outputs": [
    {
     "data": {
      "image/png": "[encoded data removed]",
      "text/plain": [
       "<Figure size 640x480 with 1 Axes>"
      ]
     },
     "metadata": {},
     "output_type": "display_data"
    }
   ],
   "source": [
    "df['Target'].value_counts().sort_index().plot.bar()\n",
    "plt.title(\"ORF distribution of Bacterial DNA\");"
   ]
  },
  {
   "cell_type": "code",
   "execution_count": 7,
   "id": "da636f7b",
   "metadata": {
    "execution": {
     "iopub.execute_input": "2024-05-19T20:56:27.295997Z",
     "iopub.status.busy": "2024-05-19T20:56:27.295710Z",
     "iopub.status.idle": "2024-05-19T20:56:27.300199Z",
     "shell.execute_reply": "2024-05-19T20:56:27.299380Z"
    },
    "papermill": {
     "duration": 0.018963,
     "end_time": "2024-05-19T20:56:27.302037",
     "exception": false,
     "start_time": "2024-05-19T20:56:27.283074",
     "status": "completed"
    },
    "tags": []
   },
   "outputs": [],
   "source": [
    "def kmers_funct(seq, size=6):\n",
    "    return [seq[x:x+size].lower() for x in range(len(seq) - size + 1)]"
   ]
  },
  {
   "cell_type": "code",
   "execution_count": 8,
   "id": "59b4290f",
   "metadata": {
    "execution": {
     "iopub.execute_input": "2024-05-19T20:56:27.326174Z",
     "iopub.status.busy": "2024-05-19T20:56:27.325904Z",
     "iopub.status.idle": "2024-05-19T20:56:30.778935Z",
     "shell.execute_reply": "2024-05-19T20:56:30.777974Z"
    },
    "papermill": {
     "duration": 3.467501,
     "end_time": "2024-05-19T20:56:30.781121",
     "exception": false,
     "start_time": "2024-05-19T20:56:27.313620",
     "status": "completed"
    },
    "tags": []
   },
   "outputs": [
    {
     "name": "stderr",
     "output_type": "stream",
     "text": [
      "/tmp/ipykernel_24/3880847245.py:1: SettingWithCopyWarning: \n",
      "A value is trying to be set on a copy of a slice from a DataFrame.\n",
      "Try using .loc[row_indexer,col_indexer] = value instead\n",
      "\n",
      "See the caveats in the documentation: https://pandas.pydata.org/pandas-docs/stable/user_guide/indexing.html#returning-a-view-versus-a-copy\n",
      "  df['DNA_sequence'] = df.apply(lambda x: kmers_funct(x['DNA_sequence']), axis=1)\n"
     ]
    }
   ],
   "source": [
    "df['DNA_sequence'] = df.apply(lambda x: kmers_funct(x['DNA_sequence']), axis=1)"
   ]
  },
  {
   "cell_type": "code",
   "execution_count": 9,
   "id": "834dba96",
   "metadata": {
    "execution": {
     "iopub.execute_input": "2024-05-19T20:56:30.806401Z",
     "iopub.status.busy": "2024-05-19T20:56:30.806002Z",
     "iopub.status.idle": "2024-05-19T20:56:30.820777Z",
     "shell.execute_reply": "2024-05-19T20:56:30.819841Z"
    },
    "papermill": {
     "duration": 0.029473,
     "end_time": "2024-05-19T20:56:30.822649",
     "exception": false,
     "start_time": "2024-05-19T20:56:30.793176",
     "status": "completed"
    },
    "tags": []
   },
   "outputs": [
    {
     "data": {
      "text/html": [
       "<div>\n",
       "<style scoped>\n",
       "    .dataframe tbody tr th:only-of-type {\n",
       "        vertical-align: middle;\n",
       "    }\n",
       "\n",
       "    .dataframe tbody tr th {\n",
       "        vertical-align: top;\n",
       "    }\n",
       "\n",
       "    .dataframe thead th {\n",
       "        text-align: right;\n",
       "    }\n",
       "</style>\n",
       "<table border=\"1\" class=\"dataframe\">\n",
       "  <thead>\n",
       "    <tr style=\"text-align: right;\">\n",
       "      <th></th>\n",
       "      <th>DNA_sequence</th>\n",
       "      <th>Target</th>\n",
       "    </tr>\n",
       "  </thead>\n",
       "  <tbody>\n",
       "    <tr>\n",
       "      <th>60455</th>\n",
       "      <td>[gctcac, ctcacg, tcacgc, cacgcg, acgcgc, cgcgc...</td>\n",
       "      <td>0</td>\n",
       "    </tr>\n",
       "    <tr>\n",
       "      <th>49650</th>\n",
       "      <td>[gagctc, agctca, gctcac, ctcacc, tcaccc, caccc...</td>\n",
       "      <td>0</td>\n",
       "    </tr>\n",
       "    <tr>\n",
       "      <th>31043</th>\n",
       "      <td>[cacctg, acctgc, cctgcc, ctgccc, tgcccg, gcccg...</td>\n",
       "      <td>0</td>\n",
       "    </tr>\n",
       "    <tr>\n",
       "      <th>42092</th>\n",
       "      <td>[gctacg, ctacga, tacgaa, acgaac, cgaact, gaact...</td>\n",
       "      <td>0</td>\n",
       "    </tr>\n",
       "    <tr>\n",
       "      <th>10200</th>\n",
       "      <td>[gtcgcg, tcgcgc, cgcgcg, gcgcgc, cgcgct, gcgct...</td>\n",
       "      <td>1</td>\n",
       "    </tr>\n",
       "  </tbody>\n",
       "</table>\n",
       "</div>"
      ],
      "text/plain": [
       "                                            DNA_sequence  Target\n",
       "60455  [gctcac, ctcacg, tcacgc, cacgcg, acgcgc, cgcgc...       0\n",
       "49650  [gagctc, agctca, gctcac, ctcacc, tcaccc, caccc...       0\n",
       "31043  [cacctg, acctgc, cctgcc, ctgccc, tgcccg, gcccg...       0\n",
       "42092  [gctacg, ctacga, tacgaa, acgaac, cgaact, gaact...       0\n",
       "10200  [gtcgcg, tcgcgc, cgcgcg, gcgcgc, cgcgct, gcgct...       1"
      ]
     },
     "execution_count": 9,
     "metadata": {},
     "output_type": "execute_result"
    }
   ],
   "source": [
    "df.head()"
   ]
  },
  {
   "cell_type": "markdown",
   "id": "12f69168",
   "metadata": {
    "papermill": {
     "duration": 0.011565,
     "end_time": "2024-05-19T20:56:30.846012",
     "exception": false,
     "start_time": "2024-05-19T20:56:30.834447",
     "status": "completed"
    },
    "tags": []
   },
   "source": [
    "## Determination of Variables"
   ]
  },
  {
   "cell_type": "code",
   "execution_count": 10,
   "id": "13b125f6",
   "metadata": {
    "execution": {
     "iopub.execute_input": "2024-05-19T20:56:30.872604Z",
     "iopub.status.busy": "2024-05-19T20:56:30.871903Z",
     "iopub.status.idle": "2024-05-19T20:56:30.876148Z",
     "shell.execute_reply": "2024-05-19T20:56:30.875342Z"
    },
    "papermill": {
     "duration": 0.020017,
     "end_time": "2024-05-19T20:56:30.878129",
     "exception": false,
     "start_time": "2024-05-19T20:56:30.858112",
     "status": "completed"
    },
    "tags": []
   },
   "outputs": [],
   "source": [
    "X = df['DNA_sequence'].values   \n",
    "y = df['Target'].values"
   ]
  },
  {
   "cell_type": "markdown",
   "id": "9263e5e7",
   "metadata": {
    "papermill": {
     "duration": 0.01166,
     "end_time": "2024-05-19T20:56:30.901587",
     "exception": false,
     "start_time": "2024-05-19T20:56:30.889927",
     "status": "completed"
    },
    "tags": []
   },
   "source": [
    "## Data Preprocessing "
   ]
  },
  {
   "cell_type": "code",
   "execution_count": 11,
   "id": "de5829a8",
   "metadata": {
    "execution": {
     "iopub.execute_input": "2024-05-19T20:56:30.926523Z",
     "iopub.status.busy": "2024-05-19T20:56:30.926231Z",
     "iopub.status.idle": "2024-05-19T20:56:30.930179Z",
     "shell.execute_reply": "2024-05-19T20:56:30.929362Z"
    },
    "papermill": {
     "duration": 0.018621,
     "end_time": "2024-05-19T20:56:30.932225",
     "exception": false,
     "start_time": "2024-05-19T20:56:30.913604",
     "status": "completed"
    },
    "tags": []
   },
   "outputs": [],
   "source": [
    "tokenizer = Tokenizer(num_words=None)"
   ]
  },
  {
   "cell_type": "code",
   "execution_count": 12,
   "id": "d9e5a772",
   "metadata": {
    "execution": {
     "iopub.execute_input": "2024-05-19T20:56:30.957424Z",
     "iopub.status.busy": "2024-05-19T20:56:30.957122Z",
     "iopub.status.idle": "2024-05-19T20:56:38.157949Z",
     "shell.execute_reply": "2024-05-19T20:56:38.157083Z"
    },
    "papermill": {
     "duration": 7.216019,
     "end_time": "2024-05-19T20:56:38.160242",
     "exception": false,
     "start_time": "2024-05-19T20:56:30.944223",
     "status": "completed"
    },
    "tags": []
   },
   "outputs": [],
   "source": [
    "tokenizer.fit_on_texts(X)"
   ]
  },
  {
   "cell_type": "code",
   "execution_count": 13,
   "id": "3f861b31",
   "metadata": {
    "execution": {
     "iopub.execute_input": "2024-05-19T20:56:38.185764Z",
     "iopub.status.busy": "2024-05-19T20:56:38.185467Z",
     "iopub.status.idle": "2024-05-19T20:56:42.269238Z",
     "shell.execute_reply": "2024-05-19T20:56:42.268346Z"
    },
    "papermill": {
     "duration": 4.099276,
     "end_time": "2024-05-19T20:56:42.271880",
     "exception": false,
     "start_time": "2024-05-19T20:56:38.172604",
     "status": "completed"
    },
    "tags": []
   },
   "outputs": [],
   "source": [
    "X_num_tokens = tokenizer.texts_to_sequences(X)"
   ]
  },
  {
   "cell_type": "code",
   "execution_count": 14,
   "id": "9c5f6d46",
   "metadata": {
    "execution": {
     "iopub.execute_input": "2024-05-19T20:56:42.297388Z",
     "iopub.status.busy": "2024-05-19T20:56:42.297054Z",
     "iopub.status.idle": "2024-05-19T20:56:43.211862Z",
     "shell.execute_reply": "2024-05-19T20:56:43.211074Z"
    },
    "papermill": {
     "duration": 0.929939,
     "end_time": "2024-05-19T20:56:43.214121",
     "exception": false,
     "start_time": "2024-05-19T20:56:42.284182",
     "status": "completed"
    },
    "tags": []
   },
   "outputs": [],
   "source": [
    "X_pad = pad_sequences(X_num_tokens, maxlen=1000)"
   ]
  },
  {
   "cell_type": "code",
   "execution_count": 15,
   "id": "85c73ce5",
   "metadata": {
    "execution": {
     "iopub.execute_input": "2024-05-19T20:56:43.241165Z",
     "iopub.status.busy": "2024-05-19T20:56:43.240463Z",
     "iopub.status.idle": "2024-05-19T20:56:43.245938Z",
     "shell.execute_reply": "2024-05-19T20:56:43.245131Z"
    },
    "papermill": {
     "duration": 0.020662,
     "end_time": "2024-05-19T20:56:43.247862",
     "exception": false,
     "start_time": "2024-05-19T20:56:43.227200",
     "status": "completed"
    },
    "tags": []
   },
   "outputs": [
    {
     "data": {
      "text/plain": [
       "(65321, 1000)"
      ]
     },
     "execution_count": 15,
     "metadata": {},
     "output_type": "execute_result"
    }
   ],
   "source": [
    "X_pad.shape"
   ]
  },
  {
   "cell_type": "code",
   "execution_count": 16,
   "id": "6858824a",
   "metadata": {
    "execution": {
     "iopub.execute_input": "2024-05-19T20:56:43.272680Z",
     "iopub.status.busy": "2024-05-19T20:56:43.272427Z",
     "iopub.status.idle": "2024-05-19T20:56:43.277677Z",
     "shell.execute_reply": "2024-05-19T20:56:43.276804Z"
    },
    "papermill": {
     "duration": 0.019821,
     "end_time": "2024-05-19T20:56:43.279553",
     "exception": false,
     "start_time": "2024-05-19T20:56:43.259732",
     "status": "completed"
    },
    "tags": []
   },
   "outputs": [
    {
     "data": {
      "text/plain": [
       "(65321,)"
      ]
     },
     "execution_count": 16,
     "metadata": {},
     "output_type": "execute_result"
    }
   ],
   "source": [
    "y.shape"
   ]
  },
  {
   "cell_type": "markdown",
   "id": "e69bf4bb",
   "metadata": {
    "papermill": {
     "duration": 0.011859,
     "end_time": "2024-05-19T20:56:43.303414",
     "exception": false,
     "start_time": "2024-05-19T20:56:43.291555",
     "status": "completed"
    },
    "tags": []
   },
   "source": [
    "## Train Test Split"
   ]
  },
  {
   "cell_type": "code",
   "execution_count": 17,
   "id": "f2ff47ac",
   "metadata": {
    "execution": {
     "iopub.execute_input": "2024-05-19T20:56:43.328499Z",
     "iopub.status.busy": "2024-05-19T20:56:43.328218Z",
     "iopub.status.idle": "2024-05-19T20:56:43.444596Z",
     "shell.execute_reply": "2024-05-19T20:56:43.443737Z"
    },
    "papermill": {
     "duration": 0.131496,
     "end_time": "2024-05-19T20:56:43.446926",
     "exception": false,
     "start_time": "2024-05-19T20:56:43.315430",
     "status": "completed"
    },
    "tags": []
   },
   "outputs": [],
   "source": [
    "X_train, X_test, y_train, y_test = train_test_split(X_pad, \n",
    "                                                    y, \n",
    "                                                    test_size = 0.1,\n",
    "                                                    stratify = y,\n",
    "                                                    random_state=1)"
   ]
  },
  {
   "cell_type": "markdown",
   "id": "75d9b96b",
   "metadata": {
    "papermill": {
     "duration": 0.011986,
     "end_time": "2024-05-19T20:56:43.471285",
     "exception": false,
     "start_time": "2024-05-19T20:56:43.459299",
     "status": "completed"
    },
    "tags": []
   },
   "source": [
    "## SMOTE"
   ]
  },
  {
   "cell_type": "code",
   "execution_count": 18,
   "id": "312da912",
   "metadata": {
    "execution": {
     "iopub.execute_input": "2024-05-19T20:56:43.496381Z",
     "iopub.status.busy": "2024-05-19T20:56:43.496056Z",
     "iopub.status.idle": "2024-05-19T20:56:53.222753Z",
     "shell.execute_reply": "2024-05-19T20:56:53.221706Z"
    },
    "papermill": {
     "duration": 9.741881,
     "end_time": "2024-05-19T20:56:53.225116",
     "exception": false,
     "start_time": "2024-05-19T20:56:43.483235",
     "status": "completed"
    },
    "tags": []
   },
   "outputs": [],
   "source": [
    "sm = SMOTE(random_state=1)\n",
    "X_train, y_train = sm.fit_resample(X_train, y_train)"
   ]
  },
  {
   "cell_type": "code",
   "execution_count": 19,
   "id": "878ac24f",
   "metadata": {
    "execution": {
     "iopub.execute_input": "2024-05-19T20:56:53.251968Z",
     "iopub.status.busy": "2024-05-19T20:56:53.251668Z",
     "iopub.status.idle": "2024-05-19T20:56:53.256000Z",
     "shell.execute_reply": "2024-05-19T20:56:53.255187Z"
    },
    "papermill": {
     "duration": 0.019574,
     "end_time": "2024-05-19T20:56:53.257831",
     "exception": false,
     "start_time": "2024-05-19T20:56:53.238257",
     "status": "completed"
    },
    "tags": []
   },
   "outputs": [],
   "source": [
    "embedding_size = 100\n",
    "num_words = 10000"
   ]
  },
  {
   "cell_type": "markdown",
   "id": "960db185",
   "metadata": {
    "papermill": {
     "duration": 0.011911,
     "end_time": "2024-05-19T20:56:53.281891",
     "exception": false,
     "start_time": "2024-05-19T20:56:53.269980",
     "status": "completed"
    },
    "tags": []
   },
   "source": [
    "## GRU"
   ]
  },
  {
   "cell_type": "code",
   "execution_count": 20,
   "id": "18df320f",
   "metadata": {
    "execution": {
     "iopub.execute_input": "2024-05-19T20:56:53.307696Z",
     "iopub.status.busy": "2024-05-19T20:56:53.307418Z",
     "iopub.status.idle": "2024-05-19T20:56:54.169511Z",
     "shell.execute_reply": "2024-05-19T20:56:54.168532Z"
    },
    "papermill": {
     "duration": 0.877354,
     "end_time": "2024-05-19T20:56:54.171640",
     "exception": false,
     "start_time": "2024-05-19T20:56:53.294286",
     "status": "completed"
    },
    "tags": []
   },
   "outputs": [],
   "source": [
    "model = Sequential()\n",
    "model.add(Embedding(input_dim=num_words,        \n",
    "                    output_dim=embedding_size))    \n",
    "model.add(Dropout(0.2))\n",
    "model.add(Bidirectional(GRU(units=48, return_sequences=True)))\n",
    "model.add(Dropout(0.2))\n",
    "model.add(Bidirectional(GRU(units=24, return_sequences=True)))\n",
    "model.add(Dropout(0.2))\n",
    "model.add(Bidirectional(GRU(units=12)))\n",
    "model.add(Dense(1, activation='sigmoid'))"
   ]
  },
  {
   "cell_type": "code",
   "execution_count": 21,
   "id": "bcd2d611",
   "metadata": {
    "execution": {
     "iopub.execute_input": "2024-05-19T20:56:54.198598Z",
     "iopub.status.busy": "2024-05-19T20:56:54.198043Z",
     "iopub.status.idle": "2024-05-19T20:56:54.218838Z",
     "shell.execute_reply": "2024-05-19T20:56:54.217987Z"
    },
    "papermill": {
     "duration": 0.035727,
     "end_time": "2024-05-19T20:56:54.220662",
     "exception": false,
     "start_time": "2024-05-19T20:56:54.184935",
     "status": "completed"
    },
    "tags": []
   },
   "outputs": [],
   "source": [
    "optimizer = Adam(learning_rate=0.01)\n",
    "model.compile(loss='binary_crossentropy',\n",
    "              optimizer=optimizer,\n",
    "              metrics=['Recall'])"
   ]
  },
  {
   "cell_type": "code",
   "execution_count": 22,
   "id": "e92bd2e3",
   "metadata": {
    "execution": {
     "iopub.execute_input": "2024-05-19T20:56:54.285463Z",
     "iopub.status.busy": "2024-05-19T20:56:54.285092Z",
     "iopub.status.idle": "2024-05-19T20:56:54.308892Z",
     "shell.execute_reply": "2024-05-19T20:56:54.308096Z"
    },
    "papermill": {
     "duration": 0.039223,
     "end_time": "2024-05-19T20:56:54.310877",
     "exception": false,
     "start_time": "2024-05-19T20:56:54.271654",
     "status": "completed"
    },
    "tags": []
   },
   "outputs": [
    {
     "data": {
      "text/html": [
       "<pre style=\"white-space:pre;overflow-x:auto;line-height:normal;font-family:Menlo,'DejaVu Sans Mono',consolas,'Courier New',monospace\"><span style=\"font-weight: bold\">Model: \"sequential\"</span>\n",
       "</pre>\n"
      ],
      "text/plain": [
       "\u001b[1mModel: \"sequential\"\u001b[0m\n"
      ]
     },
     "metadata": {},
     "output_type": "display_data"
    },
    {
     "data": {
      "text/html": [
       "<pre style=\"white-space:pre;overflow-x:auto;line-height:normal;font-family:Menlo,'DejaVu Sans Mono',consolas,'Courier New',monospace\">┏━━━━━━━━━━━━━━━━━━━━━━━━━━━━━━━━━┳━━━━━━━━━━━━━━━━━━━━━━━━┳━━━━━━━━━━━━━━━┓\n",
       "┃<span style=\"font-weight: bold\"> Layer (type)                    </span>┃<span style=\"font-weight: bold\"> Output Shape           </span>┃<span style=\"font-weight: bold\">       Param # </span>┃\n",
       "┡━━━━━━━━━━━━━━━━━━━━━━━━━━━━━━━━━╇━━━━━━━━━━━━━━━━━━━━━━━━╇━━━━━━━━━━━━━━━┩\n",
       "│ embedding (<span style=\"color: #0087ff; text-decoration-color: #0087ff\">Embedding</span>)           │ ?                      │   <span style=\"color: #00af00; text-decoration-color: #00af00\">0</span> (unbuilt) │\n",
       "├─────────────────────────────────┼────────────────────────┼───────────────┤\n",
       "│ dropout (<span style=\"color: #0087ff; text-decoration-color: #0087ff\">Dropout</span>)               │ ?                      │             <span style=\"color: #00af00; text-decoration-color: #00af00\">0</span> │\n",
       "├─────────────────────────────────┼────────────────────────┼───────────────┤\n",
       "│ bidirectional (<span style=\"color: #0087ff; text-decoration-color: #0087ff\">Bidirectional</span>)   │ ?                      │   <span style=\"color: #00af00; text-decoration-color: #00af00\">0</span> (unbuilt) │\n",
       "├─────────────────────────────────┼────────────────────────┼───────────────┤\n",
       "│ dropout_1 (<span style=\"color: #0087ff; text-decoration-color: #0087ff\">Dropout</span>)             │ ?                      │             <span style=\"color: #00af00; text-decoration-color: #00af00\">0</span> │\n",
       "├─────────────────────────────────┼────────────────────────┼───────────────┤\n",
       "│ bidirectional_1 (<span style=\"color: #0087ff; text-decoration-color: #0087ff\">Bidirectional</span>) │ ?                      │   <span style=\"color: #00af00; text-decoration-color: #00af00\">0</span> (unbuilt) │\n",
       "├─────────────────────────────────┼────────────────────────┼───────────────┤\n",
       "│ dropout_2 (<span style=\"color: #0087ff; text-decoration-color: #0087ff\">Dropout</span>)             │ ?                      │             <span style=\"color: #00af00; text-decoration-color: #00af00\">0</span> │\n",
       "├─────────────────────────────────┼────────────────────────┼───────────────┤\n",
       "│ bidirectional_2 (<span style=\"color: #0087ff; text-decoration-color: #0087ff\">Bidirectional</span>) │ ?                      │   <span style=\"color: #00af00; text-decoration-color: #00af00\">0</span> (unbuilt) │\n",
       "├─────────────────────────────────┼────────────────────────┼───────────────┤\n",
       "│ dense (<span style=\"color: #0087ff; text-decoration-color: #0087ff\">Dense</span>)                   │ ?                      │   <span style=\"color: #00af00; text-decoration-color: #00af00\">0</span> (unbuilt) │\n",
       "└─────────────────────────────────┴────────────────────────┴───────────────┘\n",
       "</pre>\n"
      ],
      "text/plain": [
       "┏━━━━━━━━━━━━━━━━━━━━━━━━━━━━━━━━━┳━━━━━━━━━━━━━━━━━━━━━━━━┳━━━━━━━━━━━━━━━┓\n",
       "┃\u001b[1m \u001b[0m\u001b[1mLayer (type)                   \u001b[0m\u001b[1m \u001b[0m┃\u001b[1m \u001b[0m\u001b[1mOutput Shape          \u001b[0m\u001b[1m \u001b[0m┃\u001b[1m \u001b[0m\u001b[1m      Param #\u001b[0m\u001b[1m \u001b[0m┃\n",
       "┡━━━━━━━━━━━━━━━━━━━━━━━━━━━━━━━━━╇━━━━━━━━━━━━━━━━━━━━━━━━╇━━━━━━━━━━━━━━━┩\n",
       "│ embedding (\u001b[38;5;33mEmbedding\u001b[0m)           │ ?                      │   \u001b[38;5;34m0\u001b[0m (unbuilt) │\n",
       "├─────────────────────────────────┼────────────────────────┼───────────────┤\n",
       "│ dropout (\u001b[38;5;33mDropout\u001b[0m)               │ ?                      │             \u001b[38;5;34m0\u001b[0m │\n",
       "├─────────────────────────────────┼────────────────────────┼───────────────┤\n",
       "│ bidirectional (\u001b[38;5;33mBidirectional\u001b[0m)   │ ?                      │   \u001b[38;5;34m0\u001b[0m (unbuilt) │\n",
       "├─────────────────────────────────┼────────────────────────┼───────────────┤\n",
       "│ dropout_1 (\u001b[38;5;33mDropout\u001b[0m)             │ ?                      │             \u001b[38;5;34m0\u001b[0m │\n",
       "├─────────────────────────────────┼────────────────────────┼───────────────┤\n",
       "│ bidirectional_1 (\u001b[38;5;33mBidirectional\u001b[0m) │ ?                      │   \u001b[38;5;34m0\u001b[0m (unbuilt) │\n",
       "├─────────────────────────────────┼────────────────────────┼───────────────┤\n",
       "│ dropout_2 (\u001b[38;5;33mDropout\u001b[0m)             │ ?                      │             \u001b[38;5;34m0\u001b[0m │\n",
       "├─────────────────────────────────┼────────────────────────┼───────────────┤\n",
       "│ bidirectional_2 (\u001b[38;5;33mBidirectional\u001b[0m) │ ?                      │   \u001b[38;5;34m0\u001b[0m (unbuilt) │\n",
       "├─────────────────────────────────┼────────────────────────┼───────────────┤\n",
       "│ dense (\u001b[38;5;33mDense\u001b[0m)                   │ ?                      │   \u001b[38;5;34m0\u001b[0m (unbuilt) │\n",
       "└─────────────────────────────────┴────────────────────────┴───────────────┘\n"
      ]
     },
     "metadata": {},
     "output_type": "display_data"
    },
    {
     "data": {
      "text/html": [
       "<pre style=\"white-space:pre;overflow-x:auto;line-height:normal;font-family:Menlo,'DejaVu Sans Mono',consolas,'Courier New',monospace\"><span style=\"font-weight: bold\"> Total params: </span><span style=\"color: #00af00; text-decoration-color: #00af00\">0</span> (0.00 B)\n",
       "</pre>\n"
      ],
      "text/plain": [
       "\u001b[1m Total params: \u001b[0m\u001b[38;5;34m0\u001b[0m (0.00 B)\n"
      ]
     },
     "metadata": {},
     "output_type": "display_data"
    },
    {
     "data": {
      "text/html": [
       "<pre style=\"white-space:pre;overflow-x:auto;line-height:normal;font-family:Menlo,'DejaVu Sans Mono',consolas,'Courier New',monospace\"><span style=\"font-weight: bold\"> Trainable params: </span><span style=\"color: #00af00; text-decoration-color: #00af00\">0</span> (0.00 B)\n",
       "</pre>\n"
      ],
      "text/plain": [
       "\u001b[1m Trainable params: \u001b[0m\u001b[38;5;34m0\u001b[0m (0.00 B)\n"
      ]
     },
     "metadata": {},
     "output_type": "display_data"
    },
    {
     "data": {
      "text/html": [
       "<pre style=\"white-space:pre;overflow-x:auto;line-height:normal;font-family:Menlo,'DejaVu Sans Mono',consolas,'Courier New',monospace\"><span style=\"font-weight: bold\"> Non-trainable params: </span><span style=\"color: #00af00; text-decoration-color: #00af00\">0</span> (0.00 B)\n",
       "</pre>\n"
      ],
      "text/plain": [
       "\u001b[1m Non-trainable params: \u001b[0m\u001b[38;5;34m0\u001b[0m (0.00 B)\n"
      ]
     },
     "metadata": {},
     "output_type": "display_data"
    }
   ],
   "source": [
    "model.summary()"
   ]
  },
  {
   "cell_type": "code",
   "execution_count": 23,
   "id": "9ffd63b8",
   "metadata": {
    "execution": {
     "iopub.execute_input": "2024-05-19T20:56:54.338161Z",
     "iopub.status.busy": "2024-05-19T20:56:54.337912Z",
     "iopub.status.idle": "2024-05-19T20:56:54.342015Z",
     "shell.execute_reply": "2024-05-19T20:56:54.341102Z"
    },
    "papermill": {
     "duration": 0.019862,
     "end_time": "2024-05-19T20:56:54.343859",
     "exception": false,
     "start_time": "2024-05-19T20:56:54.323997",
     "status": "completed"
    },
    "tags": []
   },
   "outputs": [],
   "source": [
    "early_stop = EarlyStopping(monitor=\"val_Recall\", mode=\"max\",         \n",
    "                           verbose=1, patience = 20, restore_best_weights=True)"
   ]
  },
  {
   "cell_type": "code",
   "execution_count": 24,
   "id": "e7907664",
   "metadata": {
    "execution": {
     "iopub.execute_input": "2024-05-19T20:56:54.371080Z",
     "iopub.status.busy": "2024-05-19T20:56:54.370545Z",
     "iopub.status.idle": "2024-05-19T21:28:32.915199Z",
     "shell.execute_reply": "2024-05-19T21:28:32.914450Z"
    },
    "papermill": {
     "duration": 1898.560421,
     "end_time": "2024-05-19T21:28:32.917200",
     "exception": false,
     "start_time": "2024-05-19T20:56:54.356779",
     "status": "completed"
    },
    "tags": []
   },
   "outputs": [
    {
     "name": "stdout",
     "output_type": "stream",
     "text": [
      "Epoch 1/50\n",
      "\u001b[1m81/81\u001b[0m \u001b[32m━━━━━━━━━━━━━━━━━━━━\u001b[0m\u001b[37m\u001b[0m \u001b[1m71s\u001b[0m 769ms/step - Recall: 0.6300 - loss: 0.6720 - val_Recall: 5.0710e-04 - val_loss: 0.6142\n",
      "Epoch 2/50\n",
      "\u001b[1m81/81\u001b[0m \u001b[32m━━━━━━━━━━━━━━━━━━━━\u001b[0m\u001b[37m\u001b[0m \u001b[1m65s\u001b[0m 797ms/step - Recall: 0.5777 - loss: 0.4356 - val_Recall: 0.1937 - val_loss: 0.5756\n",
      "Epoch 3/50\n",
      "\u001b[1m81/81\u001b[0m \u001b[32m━━━━━━━━━━━━━━━━━━━━\u001b[0m\u001b[37m\u001b[0m \u001b[1m65s\u001b[0m 808ms/step - Recall: 0.6804 - loss: 0.3983 - val_Recall: 0.0355 - val_loss: 0.5930\n",
      "Epoch 4/50\n",
      "\u001b[1m81/81\u001b[0m \u001b[32m━━━━━━━━━━━━━━━━━━━━\u001b[0m\u001b[37m\u001b[0m \u001b[1m65s\u001b[0m 808ms/step - Recall: 0.6990 - loss: 0.3863 - val_Recall: 0.1886 - val_loss: 0.5772\n",
      "Epoch 5/50\n",
      "\u001b[1m81/81\u001b[0m \u001b[32m━━━━━━━━━━━━━━━━━━━━\u001b[0m\u001b[37m\u001b[0m \u001b[1m65s\u001b[0m 807ms/step - Recall: 0.7200 - loss: 0.3761 - val_Recall: 0.0553 - val_loss: 0.6474\n",
      "Epoch 6/50\n",
      "\u001b[1m81/81\u001b[0m \u001b[32m━━━━━━━━━━━━━━━━━━━━\u001b[0m\u001b[37m\u001b[0m \u001b[1m65s\u001b[0m 807ms/step - Recall: 0.7444 - loss: 0.3599 - val_Recall: 0.1263 - val_loss: 0.6114\n",
      "Epoch 7/50\n",
      "\u001b[1m81/81\u001b[0m \u001b[32m━━━━━━━━━━━━━━━━━━━━\u001b[0m\u001b[37m\u001b[0m \u001b[1m66s\u001b[0m 809ms/step - Recall: 0.7687 - loss: 0.3422 - val_Recall: 0.3058 - val_loss: 0.6434\n",
      "Epoch 8/50\n",
      "\u001b[1m81/81\u001b[0m \u001b[32m━━━━━━━━━━━━━━━━━━━━\u001b[0m\u001b[37m\u001b[0m \u001b[1m65s\u001b[0m 807ms/step - Recall: 0.8068 - loss: 0.3203 - val_Recall: 0.1856 - val_loss: 0.6462\n",
      "Epoch 9/50\n",
      "\u001b[1m81/81\u001b[0m \u001b[32m━━━━━━━━━━━━━━━━━━━━\u001b[0m\u001b[37m\u001b[0m \u001b[1m65s\u001b[0m 807ms/step - Recall: 0.8224 - loss: 0.3032 - val_Recall: 0.3423 - val_loss: 0.6548\n",
      "Epoch 10/50\n",
      "\u001b[1m81/81\u001b[0m \u001b[32m━━━━━━━━━━━━━━━━━━━━\u001b[0m\u001b[37m\u001b[0m \u001b[1m65s\u001b[0m 808ms/step - Recall: 0.8360 - loss: 0.2906 - val_Recall: 0.1876 - val_loss: 0.7006\n",
      "Epoch 11/50\n",
      "\u001b[1m81/81\u001b[0m \u001b[32m━━━━━━━━━━━━━━━━━━━━\u001b[0m\u001b[37m\u001b[0m \u001b[1m65s\u001b[0m 807ms/step - Recall: 0.8443 - loss: 0.2791 - val_Recall: 0.1374 - val_loss: 0.7650\n",
      "Epoch 12/50\n",
      "\u001b[1m81/81\u001b[0m \u001b[32m━━━━━━━━━━━━━━━━━━━━\u001b[0m\u001b[37m\u001b[0m \u001b[1m65s\u001b[0m 805ms/step - Recall: 0.8478 - loss: 0.2754 - val_Recall: 0.2764 - val_loss: 0.7366\n",
      "Epoch 13/50\n",
      "\u001b[1m81/81\u001b[0m \u001b[32m━━━━━━━━━━━━━━━━━━━━\u001b[0m\u001b[37m\u001b[0m \u001b[1m65s\u001b[0m 806ms/step - Recall: 0.8609 - loss: 0.2591 - val_Recall: 0.3382 - val_loss: 0.7412\n",
      "Epoch 14/50\n",
      "\u001b[1m81/81\u001b[0m \u001b[32m━━━━━━━━━━━━━━━━━━━━\u001b[0m\u001b[37m\u001b[0m \u001b[1m65s\u001b[0m 806ms/step - Recall: 0.8668 - loss: 0.2582 - val_Recall: 0.3103 - val_loss: 0.7441\n",
      "Epoch 15/50\n",
      "\u001b[1m81/81\u001b[0m \u001b[32m━━━━━━━━━━━━━━━━━━━━\u001b[0m\u001b[37m\u001b[0m \u001b[1m65s\u001b[0m 805ms/step - Recall: 0.8686 - loss: 0.2528 - val_Recall: 0.2622 - val_loss: 0.7836\n",
      "Epoch 16/50\n",
      "\u001b[1m81/81\u001b[0m \u001b[32m━━━━━━━━━━━━━━━━━━━━\u001b[0m\u001b[37m\u001b[0m \u001b[1m65s\u001b[0m 806ms/step - Recall: 0.8636 - loss: 0.2548 - val_Recall: 0.3190 - val_loss: 0.7845\n",
      "Epoch 17/50\n",
      "\u001b[1m81/81\u001b[0m \u001b[32m━━━━━━━━━━━━━━━━━━━━\u001b[0m\u001b[37m\u001b[0m \u001b[1m65s\u001b[0m 808ms/step - Recall: 0.8687 - loss: 0.2524 - val_Recall: 0.2586 - val_loss: 0.7853\n",
      "Epoch 18/50\n",
      "\u001b[1m81/81\u001b[0m \u001b[32m━━━━━━━━━━━━━━━━━━━━\u001b[0m\u001b[37m\u001b[0m \u001b[1m65s\u001b[0m 805ms/step - Recall: 0.8705 - loss: 0.2479 - val_Recall: 0.1826 - val_loss: 0.8525\n",
      "Epoch 19/50\n",
      "\u001b[1m81/81\u001b[0m \u001b[32m━━━━━━━━━━━━━━━━━━━━\u001b[0m\u001b[37m\u001b[0m \u001b[1m65s\u001b[0m 805ms/step - Recall: 0.8634 - loss: 0.2538 - val_Recall: 0.2901 - val_loss: 0.8132\n",
      "Epoch 20/50\n",
      "\u001b[1m81/81\u001b[0m \u001b[32m━━━━━━━━━━━━━━━━━━━━\u001b[0m\u001b[37m\u001b[0m \u001b[1m65s\u001b[0m 807ms/step - Recall: 0.8726 - loss: 0.2471 - val_Recall: 0.2414 - val_loss: 0.7773\n",
      "Epoch 21/50\n",
      "\u001b[1m81/81\u001b[0m \u001b[32m━━━━━━━━━━━━━━━━━━━━\u001b[0m\u001b[37m\u001b[0m \u001b[1m65s\u001b[0m 805ms/step - Recall: 0.8652 - loss: 0.2500 - val_Recall: 0.3362 - val_loss: 0.8015\n",
      "Epoch 22/50\n",
      "\u001b[1m81/81\u001b[0m \u001b[32m━━━━━━━━━━━━━━━━━━━━\u001b[0m\u001b[37m\u001b[0m \u001b[1m65s\u001b[0m 806ms/step - Recall: 0.8747 - loss: 0.2481 - val_Recall: 0.2652 - val_loss: 0.8080\n",
      "Epoch 23/50\n",
      "\u001b[1m81/81\u001b[0m \u001b[32m━━━━━━━━━━━━━━━━━━━━\u001b[0m\u001b[37m\u001b[0m \u001b[1m65s\u001b[0m 804ms/step - Recall: 0.8706 - loss: 0.2484 - val_Recall: 0.2490 - val_loss: 0.8086\n",
      "Epoch 24/50\n",
      "\u001b[1m81/81\u001b[0m \u001b[32m━━━━━━━━━━━━━━━━━━━━\u001b[0m\u001b[37m\u001b[0m \u001b[1m65s\u001b[0m 805ms/step - Recall: 0.8713 - loss: 0.2479 - val_Recall: 0.2875 - val_loss: 0.8035\n",
      "Epoch 25/50\n",
      "\u001b[1m81/81\u001b[0m \u001b[32m━━━━━━━━━━━━━━━━━━━━\u001b[0m\u001b[37m\u001b[0m \u001b[1m65s\u001b[0m 804ms/step - Recall: 0.8737 - loss: 0.2456 - val_Recall: 0.2449 - val_loss: 0.8118\n",
      "Epoch 26/50\n",
      "\u001b[1m81/81\u001b[0m \u001b[32m━━━━━━━━━━━━━━━━━━━━\u001b[0m\u001b[37m\u001b[0m \u001b[1m65s\u001b[0m 804ms/step - Recall: 0.8702 - loss: 0.2480 - val_Recall: 0.2941 - val_loss: 0.7921\n",
      "Epoch 27/50\n",
      "\u001b[1m81/81\u001b[0m \u001b[32m━━━━━━━━━━━━━━━━━━━━\u001b[0m\u001b[37m\u001b[0m \u001b[1m65s\u001b[0m 804ms/step - Recall: 0.8681 - loss: 0.2507 - val_Recall: 0.2424 - val_loss: 0.8233\n",
      "Epoch 28/50\n",
      "\u001b[1m81/81\u001b[0m \u001b[32m━━━━━━━━━━━━━━━━━━━━\u001b[0m\u001b[37m\u001b[0m \u001b[1m65s\u001b[0m 804ms/step - Recall: 0.8710 - loss: 0.2486 - val_Recall: 0.2870 - val_loss: 0.8136\n",
      "Epoch 29/50\n",
      "\u001b[1m81/81\u001b[0m \u001b[32m━━━━━━━━━━━━━━━━━━━━\u001b[0m\u001b[37m\u001b[0m \u001b[1m65s\u001b[0m 804ms/step - Recall: 0.8612 - loss: 0.2590 - val_Recall: 0.2819 - val_loss: 0.8071\n",
      "Epoch 29: early stopping\n",
      "Restoring model weights from the end of the best epoch: 9.\n"
     ]
    }
   ],
   "source": [
    "model_history = model.fit(X_train, y_train, epochs=50, batch_size=1024,\n",
    "                          validation_data=(X_test, y_test), callbacks=[early_stop])"
   ]
  },
  {
   "cell_type": "markdown",
   "id": "b8d481f0",
   "metadata": {
    "papermill": {
     "duration": 0.207147,
     "end_time": "2024-05-19T21:28:33.374099",
     "exception": false,
     "start_time": "2024-05-19T21:28:33.166952",
     "status": "completed"
    },
    "tags": []
   },
   "source": [
    "## GRU Model Evaluation"
   ]
  },
  {
   "cell_type": "code",
   "execution_count": 25,
   "id": "e2ee5024",
   "metadata": {
    "execution": {
     "iopub.execute_input": "2024-05-19T21:28:33.773557Z",
     "iopub.status.busy": "2024-05-19T21:28:33.772884Z",
     "iopub.status.idle": "2024-05-19T21:31:05.814764Z",
     "shell.execute_reply": "2024-05-19T21:31:05.813776Z"
    },
    "papermill": {
     "duration": 152.707656,
     "end_time": "2024-05-19T21:31:06.281425",
     "exception": false,
     "start_time": "2024-05-19T21:28:33.573769",
     "status": "completed"
    },
    "tags": []
   },
   "outputs": [
    {
     "name": "stdout",
     "output_type": "stream",
     "text": [
      "\u001b[1m2566/2566\u001b[0m \u001b[32m━━━━━━━━━━━━━━━━━━━━\u001b[0m\u001b[37m\u001b[0m \u001b[1m150s\u001b[0m 58ms/step\n",
      "[[38008  3034]\n",
      " [ 6338 34704]]\n",
      "-------------------------------------------------------\n",
      "              precision    recall  f1-score   support\n",
      "\n",
      "           0       0.86      0.93      0.89     41042\n",
      "           1       0.92      0.85      0.88     41042\n",
      "\n",
      "    accuracy                           0.89     82084\n",
      "   macro avg       0.89      0.89      0.89     82084\n",
      "weighted avg       0.89      0.89      0.89     82084\n",
      "\n"
     ]
    }
   ],
   "source": [
    "y_train_pred = model.predict(X_train) >= 0.5\n",
    "print(confusion_matrix(y_train, y_train_pred))\n",
    "print(\"-------------------------------------------------------\")\n",
    "print(classification_report(y_train, y_train_pred))"
   ]
  },
  {
   "cell_type": "code",
   "execution_count": 26,
   "id": "f29bf41c",
   "metadata": {
    "execution": {
     "iopub.execute_input": "2024-05-19T21:31:07.085401Z",
     "iopub.status.busy": "2024-05-19T21:31:07.085023Z",
     "iopub.status.idle": "2024-05-19T21:31:07.325277Z",
     "shell.execute_reply": "2024-05-19T21:31:07.324282Z"
    },
    "papermill": {
     "duration": 0.644112,
     "end_time": "2024-05-19T21:31:07.327177",
     "exception": false,
     "start_time": "2024-05-19T21:31:06.683065",
     "status": "completed"
    },
    "tags": []
   },
   "outputs": [
    {
     "data": {
      "image/png": "[encoded data removed]",
      "text/plain": [
       "<Figure size 640x480 with 1 Axes>"
      ]
     },
     "metadata": {},
     "output_type": "display_data"
    }
   ],
   "source": [
    "pd.DataFrame(model_history.history).plot();"
   ]
  },
  {
   "cell_type": "markdown",
   "id": "972a4057",
   "metadata": {
    "papermill": {
     "duration": 0.403452,
     "end_time": "2024-05-19T21:31:08.135284",
     "exception": false,
     "start_time": "2024-05-19T21:31:07.731832",
     "status": "completed"
    },
    "tags": []
   },
   "source": [
    "## LSTM"
   ]
  },
  {
   "cell_type": "code",
   "execution_count": 27,
   "id": "af85a8c7",
   "metadata": {
    "execution": {
     "iopub.execute_input": "2024-05-19T21:31:08.955629Z",
     "iopub.status.busy": "2024-05-19T21:31:08.955246Z",
     "iopub.status.idle": "2024-05-19T21:31:09.006722Z",
     "shell.execute_reply": "2024-05-19T21:31:09.005894Z"
    },
    "papermill": {
     "duration": 0.46111,
     "end_time": "2024-05-19T21:31:09.008912",
     "exception": false,
     "start_time": "2024-05-19T21:31:08.547802",
     "status": "completed"
    },
    "tags": []
   },
   "outputs": [],
   "source": [
    "model = Sequential()\n",
    "model.add(Embedding(input_dim=num_words,        \n",
    "                    output_dim=embedding_size))    \n",
    "model.add(Dropout(0.2))\n",
    "model.add(Bidirectional(LSTM(units=48, return_sequences=True)))\n",
    "model.add(Dropout(0.2))\n",
    "model.add(Bidirectional(LSTM(units=24, return_sequences=True)))\n",
    "model.add(Dropout(0.2))\n",
    "model.add(Bidirectional(LSTM(units=12)))\n",
    "model.add(Dense(1, activation='sigmoid'))"
   ]
  },
  {
   "cell_type": "code",
   "execution_count": 28,
   "id": "b6dd3c8b",
   "metadata": {
    "execution": {
     "iopub.execute_input": "2024-05-19T21:31:09.863733Z",
     "iopub.status.busy": "2024-05-19T21:31:09.863379Z",
     "iopub.status.idle": "2024-05-19T21:31:09.873248Z",
     "shell.execute_reply": "2024-05-19T21:31:09.872547Z"
    },
    "papermill": {
     "duration": 0.414897,
     "end_time": "2024-05-19T21:31:09.875276",
     "exception": false,
     "start_time": "2024-05-19T21:31:09.460379",
     "status": "completed"
    },
    "tags": []
   },
   "outputs": [],
   "source": [
    "optimizer = Adam(learning_rate=0.01)\n",
    "model.compile(loss='binary_crossentropy',\n",
    "              optimizer=optimizer,\n",
    "              metrics=['Recall'])"
   ]
  },
  {
   "cell_type": "code",
   "execution_count": 29,
   "id": "3376b25f",
   "metadata": {
    "execution": {
     "iopub.execute_input": "2024-05-19T21:31:10.681500Z",
     "iopub.status.busy": "2024-05-19T21:31:10.681116Z",
     "iopub.status.idle": "2024-05-19T21:31:10.699974Z",
     "shell.execute_reply": "2024-05-19T21:31:10.699111Z"
    },
    "papermill": {
     "duration": 0.424623,
     "end_time": "2024-05-19T21:31:10.701855",
     "exception": false,
     "start_time": "2024-05-19T21:31:10.277232",
     "status": "completed"
    },
    "tags": []
   },
   "outputs": [
    {
     "data": {
      "text/html": [
       "<pre style=\"white-space:pre;overflow-x:auto;line-height:normal;font-family:Menlo,'DejaVu Sans Mono',consolas,'Courier New',monospace\"><span style=\"font-weight: bold\">Model: \"sequential_1\"</span>\n",
       "</pre>\n"
      ],
      "text/plain": [
       "\u001b[1mModel: \"sequential_1\"\u001b[0m\n"
      ]
     },
     "metadata": {},
     "output_type": "display_data"
    },
    {
     "data": {
      "text/html": [
       "<pre style=\"white-space:pre;overflow-x:auto;line-height:normal;font-family:Menlo,'DejaVu Sans Mono',consolas,'Courier New',monospace\">┏━━━━━━━━━━━━━━━━━━━━━━━━━━━━━━━━━┳━━━━━━━━━━━━━━━━━━━━━━━━┳━━━━━━━━━━━━━━━┓\n",
       "┃<span style=\"font-weight: bold\"> Layer (type)                    </span>┃<span style=\"font-weight: bold\"> Output Shape           </span>┃<span style=\"font-weight: bold\">       Param # </span>┃\n",
       "┡━━━━━━━━━━━━━━━━━━━━━━━━━━━━━━━━━╇━━━━━━━━━━━━━━━━━━━━━━━━╇━━━━━━━━━━━━━━━┩\n",
       "│ embedding_1 (<span style=\"color: #0087ff; text-decoration-color: #0087ff\">Embedding</span>)         │ ?                      │   <span style=\"color: #00af00; text-decoration-color: #00af00\">0</span> (unbuilt) │\n",
       "├─────────────────────────────────┼────────────────────────┼───────────────┤\n",
       "│ dropout_3 (<span style=\"color: #0087ff; text-decoration-color: #0087ff\">Dropout</span>)             │ ?                      │             <span style=\"color: #00af00; text-decoration-color: #00af00\">0</span> │\n",
       "├─────────────────────────────────┼────────────────────────┼───────────────┤\n",
       "│ bidirectional_3 (<span style=\"color: #0087ff; text-decoration-color: #0087ff\">Bidirectional</span>) │ ?                      │   <span style=\"color: #00af00; text-decoration-color: #00af00\">0</span> (unbuilt) │\n",
       "├─────────────────────────────────┼────────────────────────┼───────────────┤\n",
       "│ dropout_4 (<span style=\"color: #0087ff; text-decoration-color: #0087ff\">Dropout</span>)             │ ?                      │             <span style=\"color: #00af00; text-decoration-color: #00af00\">0</span> │\n",
       "├─────────────────────────────────┼────────────────────────┼───────────────┤\n",
       "│ bidirectional_4 (<span style=\"color: #0087ff; text-decoration-color: #0087ff\">Bidirectional</span>) │ ?                      │   <span style=\"color: #00af00; text-decoration-color: #00af00\">0</span> (unbuilt) │\n",
       "├─────────────────────────────────┼────────────────────────┼───────────────┤\n",
       "│ dropout_5 (<span style=\"color: #0087ff; text-decoration-color: #0087ff\">Dropout</span>)             │ ?                      │             <span style=\"color: #00af00; text-decoration-color: #00af00\">0</span> │\n",
       "├─────────────────────────────────┼────────────────────────┼───────────────┤\n",
       "│ bidirectional_5 (<span style=\"color: #0087ff; text-decoration-color: #0087ff\">Bidirectional</span>) │ ?                      │   <span style=\"color: #00af00; text-decoration-color: #00af00\">0</span> (unbuilt) │\n",
       "├─────────────────────────────────┼────────────────────────┼───────────────┤\n",
       "│ dense_1 (<span style=\"color: #0087ff; text-decoration-color: #0087ff\">Dense</span>)                 │ ?                      │   <span style=\"color: #00af00; text-decoration-color: #00af00\">0</span> (unbuilt) │\n",
       "└─────────────────────────────────┴────────────────────────┴───────────────┘\n",
       "</pre>\n"
      ],
      "text/plain": [
       "┏━━━━━━━━━━━━━━━━━━━━━━━━━━━━━━━━━┳━━━━━━━━━━━━━━━━━━━━━━━━┳━━━━━━━━━━━━━━━┓\n",
       "┃\u001b[1m \u001b[0m\u001b[1mLayer (type)                   \u001b[0m\u001b[1m \u001b[0m┃\u001b[1m \u001b[0m\u001b[1mOutput Shape          \u001b[0m\u001b[1m \u001b[0m┃\u001b[1m \u001b[0m\u001b[1m      Param #\u001b[0m\u001b[1m \u001b[0m┃\n",
       "┡━━━━━━━━━━━━━━━━━━━━━━━━━━━━━━━━━╇━━━━━━━━━━━━━━━━━━━━━━━━╇━━━━━━━━━━━━━━━┩\n",
       "│ embedding_1 (\u001b[38;5;33mEmbedding\u001b[0m)         │ ?                      │   \u001b[38;5;34m0\u001b[0m (unbuilt) │\n",
       "├─────────────────────────────────┼────────────────────────┼───────────────┤\n",
       "│ dropout_3 (\u001b[38;5;33mDropout\u001b[0m)             │ ?                      │             \u001b[38;5;34m0\u001b[0m │\n",
       "├─────────────────────────────────┼────────────────────────┼───────────────┤\n",
       "│ bidirectional_3 (\u001b[38;5;33mBidirectional\u001b[0m) │ ?                      │   \u001b[38;5;34m0\u001b[0m (unbuilt) │\n",
       "├─────────────────────────────────┼────────────────────────┼───────────────┤\n",
       "│ dropout_4 (\u001b[38;5;33mDropout\u001b[0m)             │ ?                      │             \u001b[38;5;34m0\u001b[0m │\n",
       "├─────────────────────────────────┼────────────────────────┼───────────────┤\n",
       "│ bidirectional_4 (\u001b[38;5;33mBidirectional\u001b[0m) │ ?                      │   \u001b[38;5;34m0\u001b[0m (unbuilt) │\n",
       "├─────────────────────────────────┼────────────────────────┼───────────────┤\n",
       "│ dropout_5 (\u001b[38;5;33mDropout\u001b[0m)             │ ?                      │             \u001b[38;5;34m0\u001b[0m │\n",
       "├─────────────────────────────────┼────────────────────────┼───────────────┤\n",
       "│ bidirectional_5 (\u001b[38;5;33mBidirectional\u001b[0m) │ ?                      │   \u001b[38;5;34m0\u001b[0m (unbuilt) │\n",
       "├─────────────────────────────────┼────────────────────────┼───────────────┤\n",
       "│ dense_1 (\u001b[38;5;33mDense\u001b[0m)                 │ ?                      │   \u001b[38;5;34m0\u001b[0m (unbuilt) │\n",
       "└─────────────────────────────────┴────────────────────────┴───────────────┘\n"
      ]
     },
     "metadata": {},
     "output_type": "display_data"
    },
    {
     "data": {
      "text/html": [
       "<pre style=\"white-space:pre;overflow-x:auto;line-height:normal;font-family:Menlo,'DejaVu Sans Mono',consolas,'Courier New',monospace\"><span style=\"font-weight: bold\"> Total params: </span><span style=\"color: #00af00; text-decoration-color: #00af00\">0</span> (0.00 B)\n",
       "</pre>\n"
      ],
      "text/plain": [
       "\u001b[1m Total params: \u001b[0m\u001b[38;5;34m0\u001b[0m (0.00 B)\n"
      ]
     },
     "metadata": {},
     "output_type": "display_data"
    },
    {
     "data": {
      "text/html": [
       "<pre style=\"white-space:pre;overflow-x:auto;line-height:normal;font-family:Menlo,'DejaVu Sans Mono',consolas,'Courier New',monospace\"><span style=\"font-weight: bold\"> Trainable params: </span><span style=\"color: #00af00; text-decoration-color: #00af00\">0</span> (0.00 B)\n",
       "</pre>\n"
      ],
      "text/plain": [
       "\u001b[1m Trainable params: \u001b[0m\u001b[38;5;34m0\u001b[0m (0.00 B)\n"
      ]
     },
     "metadata": {},
     "output_type": "display_data"
    },
    {
     "data": {
      "text/html": [
       "<pre style=\"white-space:pre;overflow-x:auto;line-height:normal;font-family:Menlo,'DejaVu Sans Mono',consolas,'Courier New',monospace\"><span style=\"font-weight: bold\"> Non-trainable params: </span><span style=\"color: #00af00; text-decoration-color: #00af00\">0</span> (0.00 B)\n",
       "</pre>\n"
      ],
      "text/plain": [
       "\u001b[1m Non-trainable params: \u001b[0m\u001b[38;5;34m0\u001b[0m (0.00 B)\n"
      ]
     },
     "metadata": {},
     "output_type": "display_data"
    }
   ],
   "source": [
    "model.summary()"
   ]
  },
  {
   "cell_type": "code",
   "execution_count": 30,
   "id": "eb97acc2",
   "metadata": {
    "execution": {
     "iopub.execute_input": "2024-05-19T21:31:11.558880Z",
     "iopub.status.busy": "2024-05-19T21:31:11.558483Z",
     "iopub.status.idle": "2024-05-19T21:31:11.563915Z",
     "shell.execute_reply": "2024-05-19T21:31:11.562720Z"
    },
    "papermill": {
     "duration": 0.462722,
     "end_time": "2024-05-19T21:31:11.566070",
     "exception": false,
     "start_time": "2024-05-19T21:31:11.103348",
     "status": "completed"
    },
    "tags": []
   },
   "outputs": [],
   "source": [
    "early_stop = EarlyStopping(monitor=\"val_Recall\", mode=\"max\",         \n",
    "                           verbose=1, patience = 10, restore_best_weights=True)"
   ]
  },
  {
   "cell_type": "code",
   "execution_count": 31,
   "id": "94761642",
   "metadata": {
    "execution": {
     "iopub.execute_input": "2024-05-19T21:31:12.373901Z",
     "iopub.status.busy": "2024-05-19T21:31:12.373467Z",
     "iopub.status.idle": "2024-05-19T22:03:16.946660Z",
     "shell.execute_reply": "2024-05-19T22:03:16.945783Z"
    },
    "papermill": {
     "duration": 1924.980748,
     "end_time": "2024-05-19T22:03:16.948900",
     "exception": false,
     "start_time": "2024-05-19T21:31:11.968152",
     "status": "completed"
    },
    "tags": []
   },
   "outputs": [
    {
     "name": "stdout",
     "output_type": "stream",
     "text": [
      "Epoch 1/30\n",
      "\u001b[1m81/81\u001b[0m \u001b[32m━━━━━━━━━━━━━━━━━━━━\u001b[0m\u001b[37m\u001b[0m \u001b[1m71s\u001b[0m 814ms/step - Recall: 0.5768 - loss: 0.6589 - val_Recall: 0.0796 - val_loss: 0.6377\n",
      "Epoch 2/30\n",
      "\u001b[1m81/81\u001b[0m \u001b[32m━━━━━━━━━━━━━━━━━━━━\u001b[0m\u001b[37m\u001b[0m \u001b[1m65s\u001b[0m 803ms/step - Recall: 0.5738 - loss: 0.5225 - val_Recall: 0.0152 - val_loss: 0.6169\n",
      "Epoch 3/30\n",
      "\u001b[1m81/81\u001b[0m \u001b[32m━━━━━━━━━━━━━━━━━━━━\u001b[0m\u001b[37m\u001b[0m \u001b[1m65s\u001b[0m 802ms/step - Recall: 0.5726 - loss: 0.4392 - val_Recall: 0.0360 - val_loss: 0.6012\n",
      "Epoch 4/30\n",
      "\u001b[1m81/81\u001b[0m \u001b[32m━━━━━━━━━━━━━━━━━━━━\u001b[0m\u001b[37m\u001b[0m \u001b[1m65s\u001b[0m 803ms/step - Recall: 0.5952 - loss: 0.4220 - val_Recall: 0.0527 - val_loss: 0.5911\n",
      "Epoch 5/30\n",
      "\u001b[1m81/81\u001b[0m \u001b[32m━━━━━━━━━━━━━━━━━━━━\u001b[0m\u001b[37m\u001b[0m \u001b[1m65s\u001b[0m 803ms/step - Recall: 0.6405 - loss: 0.4081 - val_Recall: 0.0827 - val_loss: 0.5818\n",
      "Epoch 6/30\n",
      "\u001b[1m81/81\u001b[0m \u001b[32m━━━━━━━━━━━━━━━━━━━━\u001b[0m\u001b[37m\u001b[0m \u001b[1m65s\u001b[0m 801ms/step - Recall: 0.6504 - loss: 0.4132 - val_Recall: 0.0507 - val_loss: 0.5889\n",
      "Epoch 7/30\n",
      "\u001b[1m81/81\u001b[0m \u001b[32m━━━━━━━━━━━━━━━━━━━━\u001b[0m\u001b[37m\u001b[0m \u001b[1m65s\u001b[0m 802ms/step - Recall: 0.6535 - loss: 0.4032 - val_Recall: 0.3261 - val_loss: 0.5991\n",
      "Epoch 8/30\n",
      "\u001b[1m81/81\u001b[0m \u001b[32m━━━━━━━━━━━━━━━━━━━━\u001b[0m\u001b[37m\u001b[0m \u001b[1m65s\u001b[0m 801ms/step - Recall: 0.7090 - loss: 0.3894 - val_Recall: 0.2252 - val_loss: 0.5851\n",
      "Epoch 9/30\n",
      "\u001b[1m81/81\u001b[0m \u001b[32m━━━━━━━━━━━━━━━━━━━━\u001b[0m\u001b[37m\u001b[0m \u001b[1m65s\u001b[0m 802ms/step - Recall: 0.7338 - loss: 0.3797 - val_Recall: 0.2622 - val_loss: 0.5956\n",
      "Epoch 10/30\n",
      "\u001b[1m81/81\u001b[0m \u001b[32m━━━━━━━━━━━━━━━━━━━━\u001b[0m\u001b[37m\u001b[0m \u001b[1m65s\u001b[0m 802ms/step - Recall: 0.7481 - loss: 0.3660 - val_Recall: 0.3392 - val_loss: 0.6058\n",
      "Epoch 11/30\n",
      "\u001b[1m81/81\u001b[0m \u001b[32m━━━━━━━━━━━━━━━━━━━━\u001b[0m\u001b[37m\u001b[0m \u001b[1m65s\u001b[0m 801ms/step - Recall: 0.7668 - loss: 0.3534 - val_Recall: 0.2799 - val_loss: 0.6113\n",
      "Epoch 12/30\n",
      "\u001b[1m81/81\u001b[0m \u001b[32m━━━━━━━━━━━━━━━━━━━━\u001b[0m\u001b[37m\u001b[0m \u001b[1m82s\u001b[0m 805ms/step - Recall: 0.7933 - loss: 0.3403 - val_Recall: 0.3813 - val_loss: 0.6346\n",
      "Epoch 13/30\n",
      "\u001b[1m81/81\u001b[0m \u001b[32m━━━━━━━━━━━━━━━━━━━━\u001b[0m\u001b[37m\u001b[0m \u001b[1m82s\u001b[0m 804ms/step - Recall: 0.8064 - loss: 0.3281 - val_Recall: 0.3109 - val_loss: 0.6573\n",
      "Epoch 14/30\n",
      "\u001b[1m81/81\u001b[0m \u001b[32m━━━━━━━━━━━━━━━━━━━━\u001b[0m\u001b[37m\u001b[0m \u001b[1m65s\u001b[0m 799ms/step - Recall: 0.8136 - loss: 0.3141 - val_Recall: 0.3636 - val_loss: 0.6618\n",
      "Epoch 15/30\n",
      "\u001b[1m81/81\u001b[0m \u001b[32m━━━━━━━━━━━━━━━━━━━━\u001b[0m\u001b[37m\u001b[0m \u001b[1m65s\u001b[0m 802ms/step - Recall: 0.8262 - loss: 0.3056 - val_Recall: 0.2901 - val_loss: 0.6698\n",
      "Epoch 16/30\n",
      "\u001b[1m81/81\u001b[0m \u001b[32m━━━━━━━━━━━━━━━━━━━━\u001b[0m\u001b[37m\u001b[0m \u001b[1m65s\u001b[0m 802ms/step - Recall: 0.8291 - loss: 0.2991 - val_Recall: 0.2520 - val_loss: 0.7068\n",
      "Epoch 17/30\n",
      "\u001b[1m81/81\u001b[0m \u001b[32m━━━━━━━━━━━━━━━━━━━━\u001b[0m\u001b[37m\u001b[0m \u001b[1m65s\u001b[0m 802ms/step - Recall: 0.8407 - loss: 0.2848 - val_Recall: 0.3220 - val_loss: 0.7264\n",
      "Epoch 18/30\n",
      "\u001b[1m81/81\u001b[0m \u001b[32m━━━━━━━━━━━━━━━━━━━━\u001b[0m\u001b[37m\u001b[0m \u001b[1m65s\u001b[0m 802ms/step - Recall: 0.8443 - loss: 0.2927 - val_Recall: 0.3722 - val_loss: 0.7166\n",
      "Epoch 19/30\n",
      "\u001b[1m81/81\u001b[0m \u001b[32m━━━━━━━━━━━━━━━━━━━━\u001b[0m\u001b[37m\u001b[0m \u001b[1m65s\u001b[0m 801ms/step - Recall: 0.8593 - loss: 0.2742 - val_Recall: 0.3869 - val_loss: 0.7226\n",
      "Epoch 20/30\n",
      "\u001b[1m81/81\u001b[0m \u001b[32m━━━━━━━━━━━━━━━━━━━━\u001b[0m\u001b[37m\u001b[0m \u001b[1m65s\u001b[0m 801ms/step - Recall: 0.8684 - loss: 0.2589 - val_Recall: 0.2439 - val_loss: 0.7509\n",
      "Epoch 21/30\n",
      "\u001b[1m81/81\u001b[0m \u001b[32m━━━━━━━━━━━━━━━━━━━━\u001b[0m\u001b[37m\u001b[0m \u001b[1m65s\u001b[0m 802ms/step - Recall: 0.8696 - loss: 0.2526 - val_Recall: 0.2774 - val_loss: 0.7412\n",
      "Epoch 22/30\n",
      "\u001b[1m81/81\u001b[0m \u001b[32m━━━━━━━━━━━━━━━━━━━━\u001b[0m\u001b[37m\u001b[0m \u001b[1m65s\u001b[0m 802ms/step - Recall: 0.8748 - loss: 0.2475 - val_Recall: 0.2911 - val_loss: 0.7557\n",
      "Epoch 23/30\n",
      "\u001b[1m81/81\u001b[0m \u001b[32m━━━━━━━━━━━━━━━━━━━━\u001b[0m\u001b[37m\u001b[0m \u001b[1m65s\u001b[0m 802ms/step - Recall: 0.8757 - loss: 0.2443 - val_Recall: 0.3621 - val_loss: 0.7554\n",
      "Epoch 24/30\n",
      "\u001b[1m81/81\u001b[0m \u001b[32m━━━━━━━━━━━━━━━━━━━━\u001b[0m\u001b[37m\u001b[0m \u001b[1m65s\u001b[0m 802ms/step - Recall: 0.8853 - loss: 0.2395 - val_Recall: 0.3357 - val_loss: 0.7824\n",
      "Epoch 25/30\n",
      "\u001b[1m81/81\u001b[0m \u001b[32m━━━━━━━━━━━━━━━━━━━━\u001b[0m\u001b[37m\u001b[0m \u001b[1m65s\u001b[0m 801ms/step - Recall: 0.8861 - loss: 0.2312 - val_Recall: 0.2982 - val_loss: 0.8133\n",
      "Epoch 26/30\n",
      "\u001b[1m81/81\u001b[0m \u001b[32m━━━━━━━━━━━━━━━━━━━━\u001b[0m\u001b[37m\u001b[0m \u001b[1m65s\u001b[0m 802ms/step - Recall: 0.8823 - loss: 0.2314 - val_Recall: 0.2637 - val_loss: 0.8084\n",
      "Epoch 27/30\n",
      "\u001b[1m81/81\u001b[0m \u001b[32m━━━━━━━━━━━━━━━━━━━━\u001b[0m\u001b[37m\u001b[0m \u001b[1m65s\u001b[0m 802ms/step - Recall: 0.8833 - loss: 0.2294 - val_Recall: 0.3154 - val_loss: 0.8324\n",
      "Epoch 28/30\n",
      "\u001b[1m81/81\u001b[0m \u001b[32m━━━━━━━━━━━━━━━━━━━━\u001b[0m\u001b[37m\u001b[0m \u001b[1m65s\u001b[0m 801ms/step - Recall: 0.8922 - loss: 0.2204 - val_Recall: 0.3240 - val_loss: 0.8252\n",
      "Epoch 29/30\n",
      "\u001b[1m81/81\u001b[0m \u001b[32m━━━━━━━━━━━━━━━━━━━━\u001b[0m\u001b[37m\u001b[0m \u001b[1m65s\u001b[0m 802ms/step - Recall: 0.8967 - loss: 0.2171 - val_Recall: 0.3311 - val_loss: 0.8144\n",
      "Epoch 29: early stopping\n",
      "Restoring model weights from the end of the best epoch: 19.\n"
     ]
    }
   ],
   "source": [
    "model_history = model.fit(X_train, y_train, epochs=30, batch_size=1024,\n",
    "                          validation_data=(X_test, y_test), callbacks=[early_stop])"
   ]
  },
  {
   "cell_type": "markdown",
   "id": "86d18349",
   "metadata": {
    "papermill": {
     "duration": 0.595431,
     "end_time": "2024-05-19T22:03:18.148934",
     "exception": false,
     "start_time": "2024-05-19T22:03:17.553503",
     "status": "completed"
    },
    "tags": []
   },
   "source": [
    "## LSTM Model Evaluation"
   ]
  },
  {
   "cell_type": "code",
   "execution_count": 32,
   "id": "9c55ef60",
   "metadata": {
    "execution": {
     "iopub.execute_input": "2024-05-19T22:03:19.402476Z",
     "iopub.status.busy": "2024-05-19T22:03:19.401597Z",
     "iopub.status.idle": "2024-05-19T22:05:49.806088Z",
     "shell.execute_reply": "2024-05-19T22:05:49.804766Z"
    },
    "papermill": {
     "duration": 151.063336,
     "end_time": "2024-05-19T22:05:49.808343",
     "exception": false,
     "start_time": "2024-05-19T22:03:18.745007",
     "status": "completed"
    },
    "tags": []
   },
   "outputs": [
    {
     "name": "stdout",
     "output_type": "stream",
     "text": [
      "\u001b[1m2566/2566\u001b[0m \u001b[32m━━━━━━━━━━━━━━━━━━━━\u001b[0m\u001b[37m\u001b[0m \u001b[1m149s\u001b[0m 58ms/step\n",
      "[[38065  2977]\n",
      " [ 4087 36955]]\n",
      "-------------------------------------------------------\n",
      "              precision    recall  f1-score   support\n",
      "\n",
      "           0       0.90      0.93      0.92     41042\n",
      "           1       0.93      0.90      0.91     41042\n",
      "\n",
      "    accuracy                           0.91     82084\n",
      "   macro avg       0.91      0.91      0.91     82084\n",
      "weighted avg       0.91      0.91      0.91     82084\n",
      "\n"
     ]
    }
   ],
   "source": [
    "y_train_pred = model.predict(X_train) >= 0.5\n",
    "print(confusion_matrix(y_train, y_train_pred))\n",
    "print(\"-------------------------------------------------------\")\n",
    "print(classification_report(y_train, y_train_pred))"
   ]
  },
  {
   "cell_type": "code",
   "execution_count": 33,
   "id": "4901d16d",
   "metadata": {
    "execution": {
     "iopub.execute_input": "2024-05-19T22:05:51.516652Z",
     "iopub.status.busy": "2024-05-19T22:05:51.516286Z",
     "iopub.status.idle": "2024-05-19T22:05:51.812660Z",
     "shell.execute_reply": "2024-05-19T22:05:51.811773Z"
    },
    "papermill": {
     "duration": 1.182872,
     "end_time": "2024-05-19T22:05:51.814966",
     "exception": false,
     "start_time": "2024-05-19T22:05:50.632094",
     "status": "completed"
    },
    "tags": []
   },
   "outputs": [
    {
     "data": {
      "image/png": "[encoded data removed]",
      "text/plain": [
       "<Figure size 640x480 with 1 Axes>"
      ]
     },
     "metadata": {},
     "output_type": "display_data"
    }
   ],
   "source": [
    "pd.DataFrame(model_history.history).plot();"
   ]
  }
 ],
 "metadata": {
  "kaggle": {
   "accelerator": "nvidiaTeslaT4",
   "dataSources": [
    {
     "datasetId": 5019328,
     "sourceId": 8428934,
     "sourceType": "datasetVersion"
    }
   ],
   "dockerImageVersionId": 30698,
   "isGpuEnabled": true,
   "isInternetEnabled": true,
   "language": "python",
   "sourceType": "notebook"
  },
  "kernelspec": {
   "display_name": "Python 3",
   "language": "python",
   "name": "python3"
  },
  "language_info": {
   "codemirror_mode": {
    "name": "ipython",
    "version": 3
   },
   "file_extension": ".py",
   "mimetype": "text/x-python",
   "name": "python",
   "nbconvert_exporter": "python",
   "pygments_lexer": "ipython3",
   "version": "3.10.13"
  },
  "papermill": {
   "default_parameters": {},
   "duration": 4187.929268,
   "end_time": "2024-05-19T22:05:55.983859",
   "environment_variables": {},
   "exception": null,
   "input_path": "__notebook__.ipynb",
   "output_path": "__notebook__.ipynb",
   "parameters": {},
   "start_time": "2024-05-19T20:56:08.054591",
   "version": "2.5.0"
  }
 },
 "nbformat": 4,
 "nbformat_minor": 5
}
